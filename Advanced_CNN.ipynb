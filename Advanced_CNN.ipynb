{
  "nbformat": 4,
  "nbformat_minor": 0,
  "metadata": {
    "colab": {
      "name": "Advanced_CNN.ipynb",
      "provenance": [],
      "collapsed_sections": [],
      "authorship_tag": "ABX9TyOdOGA5ijY/dJfstLV53QfF",
      "include_colab_link": true
    },
    "kernelspec": {
      "name": "python3",
      "display_name": "Python 3"
    },
    "accelerator": "GPU"
  },
  "cells": [
    {
      "cell_type": "markdown",
      "metadata": {
        "id": "view-in-github",
        "colab_type": "text"
      },
      "source": [
        "<a href=\"https://colab.research.google.com/github/po04227/Deep-Learning/blob/master/Advanced_CNN.ipynb\" target=\"_parent\"><img src=\"https://colab.research.google.com/assets/colab-badge.svg\" alt=\"Open In Colab\"/></a>"
      ]
    },
    {
      "cell_type": "code",
      "metadata": {
        "id": "KaMol7RdYd5B",
        "colab_type": "code",
        "colab": {}
      },
      "source": [
        "import numpy as np\n",
        "import matplotlib.pyplot as plt\n",
        "\n",
        "from keras.datasets import mnist\n",
        "from keras.utils.np_utils import to_categorical"
      ],
      "execution_count": null,
      "outputs": []
    },
    {
      "cell_type": "code",
      "metadata": {
        "id": "EFL8ujheZB3C",
        "colab_type": "code",
        "colab": {}
      },
      "source": [
        "# Load Dataset\n",
        "(X_train, y_train), (X_test, y_test) = mnist.load_data()"
      ],
      "execution_count": null,
      "outputs": []
    },
    {
      "cell_type": "code",
      "metadata": {
        "id": "e04-1qPVZB8X",
        "colab_type": "code",
        "colab": {}
      },
      "source": [
        "# reshaping X data : (n, 28, 28) => (n, 28, 28, 1)\n",
        "X_train = X_train.reshape((X_train.shape[0], X_train.shape[1], X_train.shape[2], 1))\n",
        "X_test = X_test.reshape((X_test.shape[0], X_test.shape[1], X_test.shape[2], 1))"
      ],
      "execution_count": null,
      "outputs": []
    },
    {
      "cell_type": "code",
      "metadata": {
        "id": "5J7N6pk0ZCCI",
        "colab_type": "code",
        "colab": {}
      },
      "source": [
        "# converting y data into categorical (one-hot encoding)\n",
        "y_train = to_categorical(y_train)\n",
        "y_test = to_categorical(y_test)"
      ],
      "execution_count": null,
      "outputs": []
    },
    {
      "cell_type": "code",
      "metadata": {
        "id": "1skub4cDZCHr",
        "colab_type": "code",
        "colab": {
          "base_uri": "https://localhost:8080/",
          "height": 89
        },
        "outputId": "42cdb972-4b2d-4829-b8e8-0f0988803afa"
      },
      "source": [
        "print(X_train.shape)\n",
        "print(X_test.shape)\n",
        "print(y_train.shape)\n",
        "print(y_test.shape)"
      ],
      "execution_count": null,
      "outputs": [
        {
          "output_type": "stream",
          "text": [
            "(60000, 28, 28, 1)\n",
            "(10000, 28, 28, 1)\n",
            "(60000, 10)\n",
            "(10000, 10)\n"
          ],
          "name": "stdout"
        }
      ]
    },
    {
      "cell_type": "code",
      "metadata": {
        "id": "S4yrohdoZCMv",
        "colab_type": "code",
        "colab": {}
      },
      "source": [
        "from keras.models import Sequential\n",
        "from keras import optimizers\n",
        "from keras.layers import Dense, Activation, Flatten, Conv2D, MaxPooling2D"
      ],
      "execution_count": null,
      "outputs": []
    },
    {
      "cell_type": "code",
      "metadata": {
        "id": "K9AgxIUnZCSC",
        "colab_type": "code",
        "colab": {}
      },
      "source": [
        "# 0.Basic CNN Model\n",
        "def basic_cnn():\n",
        "    model = Sequential()\n",
        "    \n",
        "    model.add(Conv2D(input_shape = (X_train.shape[1], X_train.shape[2], X_train.shape[3]), filters = 50, kernel_size = (3,3), strides = (1,1), padding = 'same'))\n",
        "    model.add(Activation('relu'))\n",
        "    model.add(MaxPooling2D(pool_size = (2,2)))\n",
        "\n",
        "    # prior layer should be flattend to be connected to dense layers\n",
        "    model.add(Flatten())\n",
        "    # dense layer with 50 neurons\n",
        "    model.add(Dense(50, activation = 'relu'))\n",
        "    # final layer with 10 neurons to classify the instances\n",
        "    model.add(Dense(10, activation = 'softmax'))\n",
        "    \n",
        "    adam = optimizers.Adam(lr = 0.001)\n",
        "    model.compile(loss = 'categorical_crossentropy', optimizer = adam, metrics = ['accuracy'])\n",
        "    \n",
        "    return model"
      ],
      "execution_count": null,
      "outputs": []
    },
    {
      "cell_type": "code",
      "metadata": {
        "id": "Hr_sdtcfZCWx",
        "colab_type": "code",
        "colab": {}
      },
      "source": [
        "model = basic_cnn()"
      ],
      "execution_count": null,
      "outputs": []
    },
    {
      "cell_type": "code",
      "metadata": {
        "id": "d4E9RI5oa6_N",
        "colab_type": "code",
        "colab": {
          "base_uri": "https://localhost:8080/",
          "height": 377
        },
        "outputId": "516ee177-f0aa-47f2-f5ed-2415f612557f"
      },
      "source": [
        "model.summary()"
      ],
      "execution_count": null,
      "outputs": [
        {
          "output_type": "stream",
          "text": [
            "Model: \"sequential_1\"\n",
            "_________________________________________________________________\n",
            "Layer (type)                 Output Shape              Param #   \n",
            "=================================================================\n",
            "conv2d_1 (Conv2D)            (None, 28, 28, 50)        500       \n",
            "_________________________________________________________________\n",
            "activation_1 (Activation)    (None, 28, 28, 50)        0         \n",
            "_________________________________________________________________\n",
            "max_pooling2d_1 (MaxPooling2 (None, 14, 14, 50)        0         \n",
            "_________________________________________________________________\n",
            "flatten_1 (Flatten)          (None, 9800)              0         \n",
            "_________________________________________________________________\n",
            "dense_1 (Dense)              (None, 50)                490050    \n",
            "_________________________________________________________________\n",
            "dense_2 (Dense)              (None, 10)                510       \n",
            "=================================================================\n",
            "Total params: 491,060\n",
            "Trainable params: 491,060\n",
            "Non-trainable params: 0\n",
            "_________________________________________________________________\n"
          ],
          "name": "stdout"
        }
      ]
    },
    {
      "cell_type": "code",
      "metadata": {
        "id": "0lqi3YBXa7G3",
        "colab_type": "code",
        "colab": {
          "base_uri": "https://localhost:8080/",
          "height": 53
        },
        "outputId": "4368f60e-1204-4fca-eb4f-b92e1c5c5b24"
      },
      "source": [
        "%%time\n",
        "history = model.fit(X_train, y_train, batch_size = 50, validation_split = 0.2, epochs = 100, verbose = 0)"
      ],
      "execution_count": null,
      "outputs": [
        {
          "output_type": "stream",
          "text": [
            "CPU times: user 6min 21s, sys: 55.6 s, total: 7min 17s\n",
            "Wall time: 5min 40s\n"
          ],
          "name": "stdout"
        }
      ]
    },
    {
      "cell_type": "code",
      "metadata": {
        "id": "xanxLCena7PC",
        "colab_type": "code",
        "colab": {
          "base_uri": "https://localhost:8080/",
          "height": 265
        },
        "outputId": "1055564f-28c3-4ad6-b50d-9c1d4be827fe"
      },
      "source": [
        "plt.plot(history.history['accuracy'])\n",
        "plt.plot(history.history['val_accuracy'])\n",
        "plt.legend(['training', 'validation'], loc = 'upper left')\n",
        "plt.show()"
      ],
      "execution_count": null,
      "outputs": [
        {
          "output_type": "display_data",
          "data": {
            "image/png": "[encoded data removed]",
            "text/plain": [
              "<Figure size 432x288 with 1 Axes>"
            ]
          },
          "metadata": {
            "tags": [],
            "needs_background": "light"
          }
        }
      ]
    },
    {
      "cell_type": "code",
      "metadata": {
        "id": "_CvFp2Iwa7W3",
        "colab_type": "code",
        "colab": {
          "base_uri": "https://localhost:8080/",
          "height": 35
        },
        "outputId": "35b70af5-c4b0-40bd-c189-884330b97363"
      },
      "source": [
        "results = model.evaluate(X_test, y_test)"
      ],
      "execution_count": null,
      "outputs": [
        {
          "output_type": "stream",
          "text": [
            "10000/10000 [==============================] - 1s 57us/step\n"
          ],
          "name": "stdout"
        }
      ]
    },
    {
      "cell_type": "code",
      "metadata": {
        "id": "eZoTX3pca7d6",
        "colab_type": "code",
        "colab": {
          "base_uri": "https://localhost:8080/",
          "height": 35
        },
        "outputId": "7cb082f7-05c4-4d00-af45-b870ee66e8da"
      },
      "source": [
        "print('Test accuracy: ', results[1])"
      ],
      "execution_count": null,
      "outputs": [
        {
          "output_type": "stream",
          "text": [
            "Test accuracy:  0.9797000288963318\n"
          ],
          "name": "stdout"
        }
      ]
    },
    {
      "cell_type": "code",
      "metadata": {
        "id": "iRfNeO9SfsQM",
        "colab_type": "code",
        "colab": {}
      },
      "source": [
        "# 1.Deep CNN - 1\n",
        "# AlexNet\n",
        "def deep_cnn():\n",
        "    model = Sequential()\n",
        "    \n",
        "    model.add(Conv2D(input_shape = (X_train.shape[1], X_train.shape[2], X_train.shape[3]), filters = 50, kernel_size = (3,3), strides = (1,1), padding = 'same'))\n",
        "    model.add(Activation('relu'))\n",
        "    model.add(Conv2D(filters = 50, kernel_size = (3,3), strides = (1,1), padding = 'same'))\n",
        "    model.add(Activation('relu'))\n",
        "    model.add(MaxPooling2D(pool_size = (2,2)))\n",
        "    model.add(Conv2D(filters = 50, kernel_size = (3,3), strides = (1,1), padding = 'same'))\n",
        "    model.add(Activation('relu'))\n",
        "    model.add(MaxPooling2D(pool_size = (2,2)))\n",
        "\n",
        "    # prior layer should be flattend to be connected to dense layers\n",
        "    model.add(Flatten())\n",
        "    # dense layer with 50 neurons\n",
        "    model.add(Dense(50, activation = 'relu'))\n",
        "    # final layer with 10 neurons to classify the instances\n",
        "    model.add(Dense(10, activation = 'softmax'))\n",
        "    \n",
        "    adam = optimizers.Adam(lr = 0.001)\n",
        "    model.compile(loss = 'categorical_crossentropy', optimizer = adam, metrics = ['accuracy'])\n",
        "    \n",
        "    return model"
      ],
      "execution_count": null,
      "outputs": []
    },
    {
      "cell_type": "code",
      "metadata": {
        "id": "Awces7_7fsUw",
        "colab_type": "code",
        "colab": {}
      },
      "source": [
        "model = deep_cnn()"
      ],
      "execution_count": null,
      "outputs": []
    },
    {
      "cell_type": "code",
      "metadata": {
        "id": "jx_cpEU6fsZ3",
        "colab_type": "code",
        "colab": {
          "base_uri": "https://localhost:8080/",
          "height": 557
        },
        "outputId": "9005976a-f7cc-4d43-c1b1-95444dcdc370"
      },
      "source": [
        "model.summary()"
      ],
      "execution_count": null,
      "outputs": [
        {
          "output_type": "stream",
          "text": [
            "Model: \"sequential_10\"\n",
            "_________________________________________________________________\n",
            "Layer (type)                 Output Shape              Param #   \n",
            "=================================================================\n",
            "conv2d_15 (Conv2D)           (None, 28, 28, 50)        500       \n",
            "_________________________________________________________________\n",
            "activation_15 (Activation)   (None, 28, 28, 50)        0         \n",
            "_________________________________________________________________\n",
            "conv2d_16 (Conv2D)           (None, 28, 28, 50)        22550     \n",
            "_________________________________________________________________\n",
            "activation_16 (Activation)   (None, 28, 28, 50)        0         \n",
            "_________________________________________________________________\n",
            "max_pooling2d_12 (MaxPooling (None, 14, 14, 50)        0         \n",
            "_________________________________________________________________\n",
            "conv2d_17 (Conv2D)           (None, 14, 14, 50)        22550     \n",
            "_________________________________________________________________\n",
            "activation_17 (Activation)   (None, 14, 14, 50)        0         \n",
            "_________________________________________________________________\n",
            "max_pooling2d_13 (MaxPooling (None, 7, 7, 50)          0         \n",
            "_________________________________________________________________\n",
            "flatten_10 (Flatten)         (None, 2450)              0         \n",
            "_________________________________________________________________\n",
            "dense_16 (Dense)             (None, 50)                122550    \n",
            "_________________________________________________________________\n",
            "dense_17 (Dense)             (None, 10)                510       \n",
            "=================================================================\n",
            "Total params: 168,660\n",
            "Trainable params: 168,660\n",
            "Non-trainable params: 0\n",
            "_________________________________________________________________\n"
          ],
          "name": "stdout"
        }
      ]
    },
    {
      "cell_type": "code",
      "metadata": {
        "id": "SGCmypuZfsev",
        "colab_type": "code",
        "colab": {
          "base_uri": "https://localhost:8080/",
          "height": 53
        },
        "outputId": "649699a1-f8e1-4477-8fd2-b5ba9df71db4"
      },
      "source": [
        "%%time\n",
        "history = model.fit(X_train, y_train, batch_size = 50, validation_split = 0.2, epochs = 100, verbose = 0)"
      ],
      "execution_count": null,
      "outputs": [
        {
          "output_type": "stream",
          "text": [
            "CPU times: user 8min 19s, sys: 1min 18s, total: 9min 37s\n",
            "Wall time: 8min 57s\n"
          ],
          "name": "stdout"
        }
      ]
    },
    {
      "cell_type": "code",
      "metadata": {
        "id": "MiNFXW1Gfsjp",
        "colab_type": "code",
        "colab": {
          "base_uri": "https://localhost:8080/",
          "height": 265
        },
        "outputId": "e4e4896b-7712-49d7-e583-870cd494df69"
      },
      "source": [
        "plt.plot(history.history['accuracy'])\n",
        "plt.plot(history.history['val_accuracy'])\n",
        "plt.legend(['training', 'validation'], loc = 'upper left')\n",
        "plt.show()"
      ],
      "execution_count": null,
      "outputs": [
        {
          "output_type": "display_data",
          "data": {
            "image/png": "[encoded data removed]",
            "text/plain": [
              "<Figure size 432x288 with 1 Axes>"
            ]
          },
          "metadata": {
            "tags": [],
            "needs_background": "light"
          }
        }
      ]
    },
    {
      "cell_type": "code",
      "metadata": {
        "id": "wwvBoq6Tfsnv",
        "colab_type": "code",
        "colab": {
          "base_uri": "https://localhost:8080/",
          "height": 35
        },
        "outputId": "3ce42596-6268-4d20-c1b6-93bce124cfe1"
      },
      "source": [
        "results = model.evaluate(X_test, y_test)"
      ],
      "execution_count": null,
      "outputs": [
        {
          "output_type": "stream",
          "text": [
            "10000/10000 [==============================] - 1s 72us/step\n"
          ],
          "name": "stdout"
        }
      ]
    },
    {
      "cell_type": "code",
      "metadata": {
        "id": "zbyQjw-yfsrf",
        "colab_type": "code",
        "colab": {
          "base_uri": "https://localhost:8080/",
          "height": 35
        },
        "outputId": "49cf3e07-b2b5-4d45-bd8f-9740155d9b03"
      },
      "source": [
        "print('Test accuracy: ', results[1])"
      ],
      "execution_count": null,
      "outputs": [
        {
          "output_type": "stream",
          "text": [
            "Test accuracy:  0.9909999966621399\n"
          ],
          "name": "stdout"
        }
      ]
    },
    {
      "cell_type": "code",
      "metadata": {
        "id": "-irVVZa8l9AI",
        "colab_type": "code",
        "colab": {}
      },
      "source": [
        "from keras.layers import BatchNormalization, Dropout"
      ],
      "execution_count": null,
      "outputs": []
    },
    {
      "cell_type": "code",
      "metadata": {
        "id": "N94Aub_TjjVW",
        "colab_type": "code",
        "colab": {}
      },
      "source": [
        "# 2.Deep CNN - 2\n",
        "# Weight Initialization\n",
        "# Batch Normalization\n",
        "# Dropout\n",
        "def deep_cnn_advanced():\n",
        "    model = Sequential()\n",
        "    \n",
        "    model.add(Conv2D(input_shape = (X_train.shape[1], X_train.shape[2], X_train.shape[3]), filters = 50, kernel_size = (3,3), strides = (1,1), padding = 'same', kernel_initializer='he_normal'))\n",
        "    model.add(BatchNormalization())\n",
        "    model.add(Activation('relu'))\n",
        "    model.add(Conv2D(filters = 50, kernel_size = (3,3), strides = (1,1), padding = 'same', kernel_initializer='he_normal'))\n",
        "    model.add(BatchNormalization())\n",
        "    model.add(Activation('relu'))\n",
        "    model.add(MaxPooling2D(pool_size = (2,2)))\n",
        "    model.add(Conv2D(filters = 50, kernel_size = (3,3), strides = (1,1), padding = 'same', kernel_initializer='he_normal'))\n",
        "    model.add(BatchNormalization())\n",
        "    model.add(Activation('relu'))\n",
        "    model.add(MaxPooling2D(pool_size = (2,2)))\n",
        "\n",
        "    # prior layer should be flattend to be connected to dense layers\n",
        "    model.add(Flatten())\n",
        "    # dense layer with 50 neurons\n",
        "    model.add(Dense(50, activation = 'relu', kernel_initializer='he_normal'))\n",
        "    model.add(Dropout(0.5))\n",
        "    # final layer with 10 neurons to classify the instances\n",
        "    model.add(Dense(10, activation = 'softmax', kernel_initializer='he_normal'))\n",
        "    \n",
        "    adam = optimizers.Adam(lr = 0.001)\n",
        "    model.compile(loss = 'categorical_crossentropy', optimizer = adam, metrics = ['accuracy'])\n",
        "    \n",
        "    return model"
      ],
      "execution_count": null,
      "outputs": []
    },
    {
      "cell_type": "code",
      "metadata": {
        "id": "Kln7YSK3m9mr",
        "colab_type": "code",
        "colab": {}
      },
      "source": [
        "model = deep_cnn_advanced()"
      ],
      "execution_count": null,
      "outputs": []
    },
    {
      "cell_type": "code",
      "metadata": {
        "id": "4C9sRWgam9vH",
        "colab_type": "code",
        "colab": {
          "base_uri": "https://localhost:8080/",
          "height": 701
        },
        "outputId": "8140e33b-3fa3-4070-e116-04e007047722"
      },
      "source": [
        "model.summary()"
      ],
      "execution_count": null,
      "outputs": [
        {
          "output_type": "stream",
          "text": [
            "Model: \"sequential_14\"\n",
            "_________________________________________________________________\n",
            "Layer (type)                 Output Shape              Param #   \n",
            "=================================================================\n",
            "conv2d_44 (Conv2D)           (None, 28, 28, 50)        500       \n",
            "_________________________________________________________________\n",
            "batch_normalization_41 (Batc (None, 28, 28, 50)        200       \n",
            "_________________________________________________________________\n",
            "activation_44 (Activation)   (None, 28, 28, 50)        0         \n",
            "_________________________________________________________________\n",
            "conv2d_45 (Conv2D)           (None, 28, 28, 50)        22550     \n",
            "_________________________________________________________________\n",
            "batch_normalization_42 (Batc (None, 28, 28, 50)        200       \n",
            "_________________________________________________________________\n",
            "activation_45 (Activation)   (None, 28, 28, 50)        0         \n",
            "_________________________________________________________________\n",
            "max_pooling2d_23 (MaxPooling (None, 14, 14, 50)        0         \n",
            "_________________________________________________________________\n",
            "conv2d_46 (Conv2D)           (None, 14, 14, 50)        22550     \n",
            "_________________________________________________________________\n",
            "batch_normalization_43 (Batc (None, 14, 14, 50)        200       \n",
            "_________________________________________________________________\n",
            "activation_46 (Activation)   (None, 14, 14, 50)        0         \n",
            "_________________________________________________________________\n",
            "max_pooling2d_24 (MaxPooling (None, 7, 7, 50)          0         \n",
            "_________________________________________________________________\n",
            "flatten_5 (Flatten)          (None, 2450)              0         \n",
            "_________________________________________________________________\n",
            "dense_9 (Dense)              (None, 50)                122550    \n",
            "_________________________________________________________________\n",
            "dropout_4 (Dropout)          (None, 50)                0         \n",
            "_________________________________________________________________\n",
            "dense_10 (Dense)             (None, 10)                510       \n",
            "=================================================================\n",
            "Total params: 169,260\n",
            "Trainable params: 168,960\n",
            "Non-trainable params: 300\n",
            "_________________________________________________________________\n"
          ],
          "name": "stdout"
        }
      ]
    },
    {
      "cell_type": "code",
      "metadata": {
        "id": "s203GQrrm9zH",
        "colab_type": "code",
        "colab": {
          "base_uri": "https://localhost:8080/",
          "height": 53
        },
        "outputId": "43255465-b716-4dfa-a71b-0d13b6e7f9b5"
      },
      "source": [
        "%%time\n",
        "history = model.fit(X_train, y_train, batch_size = 50, validation_split = 0.2, epochs = 100, verbose = 0)"
      ],
      "execution_count": null,
      "outputs": [
        {
          "output_type": "stream",
          "text": [
            "CPU times: user 15min 17s, sys: 2min 27s, total: 17min 44s\n",
            "Wall time: 15min 24s\n"
          ],
          "name": "stdout"
        }
      ]
    },
    {
      "cell_type": "code",
      "metadata": {
        "id": "xADOb0O6m93P",
        "colab_type": "code",
        "colab": {
          "base_uri": "https://localhost:8080/",
          "height": 265
        },
        "outputId": "8c65f518-860a-49de-f835-94c57ce49157"
      },
      "source": [
        "plt.plot(history.history['accuracy'])\n",
        "plt.plot(history.history['val_accuracy'])\n",
        "plt.legend(['training', 'validation'], loc = 'upper left')\n",
        "plt.show()"
      ],
      "execution_count": null,
      "outputs": [
        {
          "output_type": "display_data",
          "data": {
            "image/png": "[encoded data removed]",
            "text/plain": [
              "<Figure size 432x288 with 1 Axes>"
            ]
          },
          "metadata": {
            "tags": [],
            "needs_background": "light"
          }
        }
      ]
    },
    {
      "cell_type": "code",
      "metadata": {
        "id": "c3yP5Bn4m965",
        "colab_type": "code",
        "colab": {
          "base_uri": "https://localhost:8080/",
          "height": 35
        },
        "outputId": "c62e1afb-0bac-4edf-d75d-9d7e736bd4c3"
      },
      "source": [
        "results = model.evaluate(X_test, y_test)"
      ],
      "execution_count": null,
      "outputs": [
        {
          "output_type": "stream",
          "text": [
            "10000/10000 [==============================] - 1s 96us/step\n"
          ],
          "name": "stdout"
        }
      ]
    },
    {
      "cell_type": "code",
      "metadata": {
        "id": "PuBKnUDywizz",
        "colab_type": "code",
        "colab": {
          "base_uri": "https://localhost:8080/",
          "height": 35
        },
        "outputId": "8182e593-6c47-4182-e62b-c94763330cea"
      },
      "source": [
        "print('Test accuracy: ', results[1])"
      ],
      "execution_count": null,
      "outputs": [
        {
          "output_type": "stream",
          "text": [
            "Test accuracy:  0.9933000206947327\n"
          ],
          "name": "stdout"
        }
      ]
    },
    {
      "cell_type": "code",
      "metadata": {
        "id": "vyAsanATw8Hh",
        "colab_type": "code",
        "colab": {}
      },
      "source": [
        "# 2.Deep CNN - 3\n",
        "# Network In Network\n",
        "def deep_cnn_advanced_nin():\n",
        "    model = Sequential()\n",
        "\n",
        "    model.add(Conv2D(input_shape = (X_train.shape[1], X_train.shape[2], X_train.shape[3]), filters = 50, kernel_size = (3,3), strides = (1,1), padding = 'same', kernel_initializer='he_normal'))\n",
        "    model.add(BatchNormalization())\n",
        "    model.add(Activation('relu'))\n",
        "    model.add(Conv2D(filters = 50, kernel_size = (3,3), strides = (1,1), padding = 'same', kernel_initializer='he_normal'))\n",
        "    model.add(Conv2D(filters = 25, kernel_size = (1,1), strides = (1,1), padding = 'valid', kernel_initializer='he_normal'))\n",
        "    model.add(BatchNormalization())\n",
        "    model.add(Activation('relu'))\n",
        "    model.add(MaxPooling2D(pool_size = (2,2)))\n",
        "    model.add(Conv2D(filters = 50, kernel_size = (3,3), strides = (1,1), padding = 'same', kernel_initializer='he_normal'))\n",
        "    model.add(Conv2D(filters = 25, kernel_size = (1,1), strides = (1,1), padding = 'valid', kernel_initializer='he_normal'))\n",
        "    model.add(BatchNormalization())\n",
        "    model.add(Activation('relu'))\n",
        "    model.add(MaxPooling2D(pool_size = (2,2)))\n",
        "\n",
        "    # prior layer should be flattend to be connected to dense layers\n",
        "    model.add(Flatten())\n",
        "    # dense layer with 50 neurons\n",
        "    model.add(Dense(50, activation = 'relu', kernel_initializer='he_normal'))\n",
        "    model.add(Dropout(0.5))\n",
        "    # final layer with 10 neurons to classify the instances\n",
        "    model.add(Dense(10, activation = 'softmax', kernel_initializer='he_normal'))\n",
        "    \n",
        "    adam = optimizers.Adam(lr = 0.001)\n",
        "    model.compile(loss = 'categorical_crossentropy', optimizer = adam, metrics = ['accuracy'])\n",
        "    \n",
        "    return model"
      ],
      "execution_count": null,
      "outputs": []
    },
    {
      "cell_type": "code",
      "metadata": {
        "id": "-y5musmG50Rk",
        "colab_type": "code",
        "colab": {}
      },
      "source": [
        "model = deep_cnn_advanced_nin()"
      ],
      "execution_count": null,
      "outputs": []
    },
    {
      "cell_type": "code",
      "metadata": {
        "id": "XiRXAv6h50Wn",
        "colab_type": "code",
        "colab": {
          "base_uri": "https://localhost:8080/",
          "height": 773
        },
        "outputId": "d66b89da-e4ac-40a1-f051-973f5bb8811f"
      },
      "source": [
        "model.summary()"
      ],
      "execution_count": null,
      "outputs": [
        {
          "output_type": "stream",
          "text": [
            "Model: \"sequential_17\"\n",
            "_________________________________________________________________\n",
            "Layer (type)                 Output Shape              Param #   \n",
            "=================================================================\n",
            "conv2d_55 (Conv2D)           (None, 28, 28, 50)        500       \n",
            "_________________________________________________________________\n",
            "batch_normalization_50 (Batc (None, 28, 28, 50)        200       \n",
            "_________________________________________________________________\n",
            "activation_53 (Activation)   (None, 28, 28, 50)        0         \n",
            "_________________________________________________________________\n",
            "conv2d_56 (Conv2D)           (None, 28, 28, 50)        22550     \n",
            "_________________________________________________________________\n",
            "conv2d_57 (Conv2D)           (None, 28, 28, 25)        1275      \n",
            "_________________________________________________________________\n",
            "batch_normalization_51 (Batc (None, 28, 28, 25)        100       \n",
            "_________________________________________________________________\n",
            "activation_54 (Activation)   (None, 28, 28, 25)        0         \n",
            "_________________________________________________________________\n",
            "max_pooling2d_29 (MaxPooling (None, 14, 14, 25)        0         \n",
            "_________________________________________________________________\n",
            "conv2d_58 (Conv2D)           (None, 14, 14, 50)        11300     \n",
            "_________________________________________________________________\n",
            "conv2d_59 (Conv2D)           (None, 14, 14, 25)        1275      \n",
            "_________________________________________________________________\n",
            "batch_normalization_52 (Batc (None, 14, 14, 25)        100       \n",
            "_________________________________________________________________\n",
            "activation_55 (Activation)   (None, 14, 14, 25)        0         \n",
            "_________________________________________________________________\n",
            "max_pooling2d_30 (MaxPooling (None, 7, 7, 25)          0         \n",
            "_________________________________________________________________\n",
            "flatten_8 (Flatten)          (None, 1225)              0         \n",
            "_________________________________________________________________\n",
            "dense_15 (Dense)             (None, 50)                61300     \n",
            "_________________________________________________________________\n",
            "dropout_7 (Dropout)          (None, 50)                0         \n",
            "_________________________________________________________________\n",
            "dense_16 (Dense)             (None, 10)                510       \n",
            "=================================================================\n",
            "Total params: 99,110\n",
            "Trainable params: 98,910\n",
            "Non-trainable params: 200\n",
            "_________________________________________________________________\n"
          ],
          "name": "stdout"
        }
      ]
    },
    {
      "cell_type": "code",
      "metadata": {
        "id": "PlhX2wZc50bX",
        "colab_type": "code",
        "colab": {
          "base_uri": "https://localhost:8080/",
          "height": 53
        },
        "outputId": "ecb238ee-0d34-46bd-9a75-ed9ba1300cd2"
      },
      "source": [
        "%%time\n",
        "history = model.fit(X_train, y_train, batch_size = 50, validation_split = 0.2, epochs = 100, verbose = 0)"
      ],
      "execution_count": null,
      "outputs": [
        {
          "output_type": "stream",
          "text": [
            "CPU times: user 16min 2s, sys: 2min 18s, total: 18min 20s\n",
            "Wall time: 15min 19s\n"
          ],
          "name": "stdout"
        }
      ]
    },
    {
      "cell_type": "code",
      "metadata": {
        "id": "s00qNRZl50gP",
        "colab_type": "code",
        "colab": {
          "base_uri": "https://localhost:8080/",
          "height": 267
        },
        "outputId": "463b859a-9d87-4d68-ce8b-8b8e1d354173"
      },
      "source": [
        "plt.plot(history.history['accuracy'])\n",
        "plt.plot(history.history['val_accuracy'])\n",
        "plt.legend(['training', 'validation'], loc = 'upper left')\n",
        "plt.show()"
      ],
      "execution_count": null,
      "outputs": [
        {
          "output_type": "display_data",
          "data": {
            "image/png": "[encoded data removed]",
            "text/plain": [
              "<Figure size 432x288 with 1 Axes>"
            ]
          },
          "metadata": {
            "tags": [],
            "needs_background": "light"
          }
        }
      ]
    },
    {
      "cell_type": "code",
      "metadata": {
        "id": "KggmgS4L50k3",
        "colab_type": "code",
        "colab": {
          "base_uri": "https://localhost:8080/",
          "height": 35
        },
        "outputId": "fcff9710-6d9b-45df-f5f8-14e47bda7b5f"
      },
      "source": [
        "results = model.evaluate(X_test, y_test)"
      ],
      "execution_count": null,
      "outputs": [
        {
          "output_type": "stream",
          "text": [
            "10000/10000 [==============================] - 1s 98us/step\n"
          ],
          "name": "stdout"
        }
      ]
    },
    {
      "cell_type": "code",
      "metadata": {
        "id": "kW1UIfea6kaq",
        "colab_type": "code",
        "colab": {
          "base_uri": "https://localhost:8080/",
          "height": 35
        },
        "outputId": "291fa0fa-5790-49f1-8dfe-75de36e58e6f"
      },
      "source": [
        "print('Test accuracy: ', results[1])"
      ],
      "execution_count": null,
      "outputs": [
        {
          "output_type": "stream",
          "text": [
            "Test accuracy:  0.9919000267982483\n"
          ],
          "name": "stdout"
        }
      ]
    },
    {
      "cell_type": "code",
      "metadata": {
        "id": "SafpPCGp_W7W",
        "colab_type": "code",
        "colab": {}
      },
      "source": [
        "# Another Case: 6 Conv Layer, 3 Pooling Layer\n",
        "def deep_cnn_v2():\n",
        "    model = Sequential()\n",
        "    \n",
        "    model.add(Conv2D(input_shape = (X_train.shape[1], X_train.shape[2], X_train.shape[3]), filters = 50, kernel_size = (3,3), strides = (1,1), padding = 'same'))\n",
        "    model.add(Activation('relu'))\n",
        "    model.add(Conv2D(filters = 50, kernel_size = (3,3), strides = (1,1), padding = 'same'))\n",
        "    model.add(Activation('relu'))\n",
        "    model.add(MaxPooling2D(pool_size = (2,2)))\n",
        "    model.add(Conv2D(filters = 50, kernel_size = (3,3), strides = (1,1), padding = 'same'))\n",
        "    model.add(Activation('relu'))\n",
        "    model.add(Conv2D(filters = 50, kernel_size = (3,3), strides = (1,1), padding = 'same'))\n",
        "    model.add(Activation('relu'))\n",
        "    model.add(MaxPooling2D(pool_size = (2,2)))\n",
        "    model.add(Conv2D(filters = 50, kernel_size = (3,3), strides = (1,1), padding = 'same'))\n",
        "    model.add(Activation('relu'))\n",
        "    model.add(Conv2D(filters = 50, kernel_size = (3,3), strides = (1,1), padding = 'same'))\n",
        "    model.add(Activation('relu'))\n",
        "    model.add(MaxPooling2D(pool_size = (2,2)))\n",
        "    \n",
        "    # prior layer should be flattend to be connected to dense layers\n",
        "    model.add(Flatten())\n",
        "    # dense layer with 50 neurons\n",
        "    model.add(Dense(50, activation = 'relu'))\n",
        "    # final layer with 10 neurons to classify the instances\n",
        "    model.add(Dense(10, activation = 'softmax'))\n",
        "    \n",
        "    adam = optimizers.Adam(lr = 0.001)\n",
        "    model.compile(loss = 'categorical_crossentropy', optimizer = adam, metrics = ['accuracy'])\n",
        "    \n",
        "    return model"
      ],
      "execution_count": null,
      "outputs": []
    },
    {
      "cell_type": "code",
      "metadata": {
        "id": "6WKTCHM1_XAB",
        "colab_type": "code",
        "colab": {}
      },
      "source": [
        "model = deep_cnn_v2()"
      ],
      "execution_count": null,
      "outputs": []
    },
    {
      "cell_type": "code",
      "metadata": {
        "id": "rdAGxifj_XEs",
        "colab_type": "code",
        "colab": {
          "base_uri": "https://localhost:8080/",
          "height": 809
        },
        "outputId": "896e200a-8e39-4ef8-94bf-7498dcec8526"
      },
      "source": [
        "model.summary()"
      ],
      "execution_count": null,
      "outputs": [
        {
          "output_type": "stream",
          "text": [
            "Model: \"sequential_18\"\n",
            "_________________________________________________________________\n",
            "Layer (type)                 Output Shape              Param #   \n",
            "=================================================================\n",
            "conv2d_60 (Conv2D)           (None, 28, 28, 50)        500       \n",
            "_________________________________________________________________\n",
            "activation_56 (Activation)   (None, 28, 28, 50)        0         \n",
            "_________________________________________________________________\n",
            "conv2d_61 (Conv2D)           (None, 28, 28, 50)        22550     \n",
            "_________________________________________________________________\n",
            "activation_57 (Activation)   (None, 28, 28, 50)        0         \n",
            "_________________________________________________________________\n",
            "max_pooling2d_31 (MaxPooling (None, 14, 14, 50)        0         \n",
            "_________________________________________________________________\n",
            "conv2d_62 (Conv2D)           (None, 14, 14, 50)        22550     \n",
            "_________________________________________________________________\n",
            "activation_58 (Activation)   (None, 14, 14, 50)        0         \n",
            "_________________________________________________________________\n",
            "conv2d_63 (Conv2D)           (None, 14, 14, 50)        22550     \n",
            "_________________________________________________________________\n",
            "activation_59 (Activation)   (None, 14, 14, 50)        0         \n",
            "_________________________________________________________________\n",
            "max_pooling2d_32 (MaxPooling (None, 7, 7, 50)          0         \n",
            "_________________________________________________________________\n",
            "conv2d_64 (Conv2D)           (None, 7, 7, 50)          22550     \n",
            "_________________________________________________________________\n",
            "activation_60 (Activation)   (None, 7, 7, 50)          0         \n",
            "_________________________________________________________________\n",
            "conv2d_65 (Conv2D)           (None, 7, 7, 50)          22550     \n",
            "_________________________________________________________________\n",
            "activation_61 (Activation)   (None, 7, 7, 50)          0         \n",
            "_________________________________________________________________\n",
            "max_pooling2d_33 (MaxPooling (None, 3, 3, 50)          0         \n",
            "_________________________________________________________________\n",
            "flatten_9 (Flatten)          (None, 450)               0         \n",
            "_________________________________________________________________\n",
            "dense_17 (Dense)             (None, 50)                22550     \n",
            "_________________________________________________________________\n",
            "dense_18 (Dense)             (None, 10)                510       \n",
            "=================================================================\n",
            "Total params: 136,310\n",
            "Trainable params: 136,310\n",
            "Non-trainable params: 0\n",
            "_________________________________________________________________\n"
          ],
          "name": "stdout"
        }
      ]
    },
    {
      "cell_type": "code",
      "metadata": {
        "id": "XF4LURen_XKA",
        "colab_type": "code",
        "colab": {
          "base_uri": "https://localhost:8080/",
          "height": 53
        },
        "outputId": "a3e86bab-ab4a-422c-bb72-80aea6f882cc"
      },
      "source": [
        "%%time\n",
        "history = model.fit(X_train, y_train, batch_size = 50, validation_split = 0.2, epochs = 100, verbose = 0)"
      ],
      "execution_count": null,
      "outputs": [
        {
          "output_type": "stream",
          "text": [
            "CPU times: user 10min 20s, sys: 1min 25s, total: 11min 45s\n",
            "Wall time: 10min 50s\n"
          ],
          "name": "stdout"
        }
      ]
    },
    {
      "cell_type": "code",
      "metadata": {
        "id": "IZB4v5Lz_XVB",
        "colab_type": "code",
        "colab": {
          "base_uri": "https://localhost:8080/",
          "height": 265
        },
        "outputId": "e344f495-a7cf-4661-ef7d-f56d60b275a7"
      },
      "source": [
        "plt.plot(history.history['accuracy'])\n",
        "plt.plot(history.history['val_accuracy'])\n",
        "plt.legend(['training', 'validation'], loc = 'upper left')\n",
        "plt.show()"
      ],
      "execution_count": null,
      "outputs": [
        {
          "output_type": "display_data",
          "data": {
            "image/png": "[encoded data removed]",
            "text/plain": [
              "<Figure size 432x288 with 1 Axes>"
            ]
          },
          "metadata": {
            "tags": [],
            "needs_background": "light"
          }
        }
      ]
    },
    {
      "cell_type": "code",
      "metadata": {
        "id": "0G-BMrmC_xhE",
        "colab_type": "code",
        "colab": {
          "base_uri": "https://localhost:8080/",
          "height": 35
        },
        "outputId": "7f56ede0-6918-46ec-f675-c6ad0da10f85"
      },
      "source": [
        "results = model.evaluate(X_test, y_test)"
      ],
      "execution_count": null,
      "outputs": [
        {
          "output_type": "stream",
          "text": [
            "10000/10000 [==============================] - 1s 70us/step\n"
          ],
          "name": "stdout"
        }
      ]
    },
    {
      "cell_type": "code",
      "metadata": {
        "id": "gRpt8vwK_xmQ",
        "colab_type": "code",
        "colab": {
          "base_uri": "https://localhost:8080/",
          "height": 35
        },
        "outputId": "d5500afc-9558-4c05-c546-5a0e696f7ee4"
      },
      "source": [
        "print('Test accuracy: ', results[1])"
      ],
      "execution_count": null,
      "outputs": [
        {
          "output_type": "stream",
          "text": [
            "Test accuracy:  0.9883999824523926\n"
          ],
          "name": "stdout"
        }
      ]
    },
    {
      "cell_type": "code",
      "metadata": {
        "id": "XxihqcRp_6zg",
        "colab_type": "code",
        "colab": {}
      },
      "source": [
        "# Another Case + Batch Normalization\n",
        "def deep_cnn_advanced_v2():\n",
        "    model = Sequential()\n",
        "    \n",
        "    model.add(Conv2D(input_shape = (X_train.shape[1], X_train.shape[2], X_train.shape[3]), filters = 50, kernel_size = (3,3), strides = (1,1), padding = 'same', kernel_initializer='he_normal'))\n",
        "    model.add(BatchNormalization())\n",
        "    model.add(Activation('relu'))\n",
        "    model.add(Conv2D(filters = 50, kernel_size = (3,3), strides = (1,1), padding = 'same', kernel_initializer='he_normal'))\n",
        "    model.add(BatchNormalization())\n",
        "    model.add(Activation('relu'))\n",
        "    model.add(MaxPooling2D(pool_size = (2,2)))\n",
        "    model.add(Conv2D(filters = 50, kernel_size = (3,3), strides = (1,1), padding = 'same', kernel_initializer='he_normal'))\n",
        "    model.add(BatchNormalization())\n",
        "    model.add(Activation('relu'))\n",
        "    model.add(Conv2D(filters = 50, kernel_size = (3,3), strides = (1,1), padding = 'same', kernel_initializer='he_normal'))\n",
        "    model.add(BatchNormalization())\n",
        "    model.add(Activation('relu'))\n",
        "    model.add(MaxPooling2D(pool_size = (2,2)))\n",
        "    model.add(Conv2D(filters = 50, kernel_size = (3,3), strides = (1,1), padding = 'same', kernel_initializer='he_normal'))\n",
        "    model.add(BatchNormalization())\n",
        "    model.add(Activation('relu'))\n",
        "    model.add(Conv2D(filters = 50, kernel_size = (3,3), strides = (1,1), padding = 'same', kernel_initializer='he_normal'))\n",
        "    model.add(BatchNormalization())\n",
        "    model.add(Activation('relu'))\n",
        "    model.add(MaxPooling2D(pool_size = (2,2)))\n",
        "    \n",
        "    # prior layer should be flattend to be connected to dense layers\n",
        "    model.add(Flatten())\n",
        "    # dense layer with 50 neurons\n",
        "    model.add(Dense(50, activation = 'relu', kernel_initializer='he_normal'))\n",
        "    model.add(Dropout(0.5))\n",
        "    # final layer with 10 neurons to classify the instances\n",
        "    model.add(Dense(10, activation = 'softmax', kernel_initializer='he_normal'))\n",
        "    \n",
        "    adam = optimizers.Adam(lr = 0.001)\n",
        "    model.compile(loss = 'categorical_crossentropy', optimizer = adam, metrics = ['accuracy'])\n",
        "    \n",
        "    return model"
      ],
      "execution_count": null,
      "outputs": []
    },
    {
      "cell_type": "code",
      "metadata": {
        "id": "6PbsOhiD_64Z",
        "colab_type": "code",
        "colab": {}
      },
      "source": [
        "model = deep_cnn_advanced_v2()"
      ],
      "execution_count": null,
      "outputs": []
    },
    {
      "cell_type": "code",
      "metadata": {
        "id": "z7fh_PFi_69y",
        "colab_type": "code",
        "colab": {
          "base_uri": "https://localhost:8080/",
          "height": 1000
        },
        "outputId": "eb245986-b5da-4178-ff9e-27bccde93d18"
      },
      "source": [
        "model.summary()"
      ],
      "execution_count": null,
      "outputs": [
        {
          "output_type": "stream",
          "text": [
            "Model: \"sequential_19\"\n",
            "_________________________________________________________________\n",
            "Layer (type)                 Output Shape              Param #   \n",
            "=================================================================\n",
            "conv2d_66 (Conv2D)           (None, 28, 28, 50)        500       \n",
            "_________________________________________________________________\n",
            "batch_normalization_53 (Batc (None, 28, 28, 50)        200       \n",
            "_________________________________________________________________\n",
            "activation_62 (Activation)   (None, 28, 28, 50)        0         \n",
            "_________________________________________________________________\n",
            "conv2d_67 (Conv2D)           (None, 28, 28, 50)        22550     \n",
            "_________________________________________________________________\n",
            "batch_normalization_54 (Batc (None, 28, 28, 50)        200       \n",
            "_________________________________________________________________\n",
            "activation_63 (Activation)   (None, 28, 28, 50)        0         \n",
            "_________________________________________________________________\n",
            "max_pooling2d_34 (MaxPooling (None, 14, 14, 50)        0         \n",
            "_________________________________________________________________\n",
            "conv2d_68 (Conv2D)           (None, 14, 14, 50)        22550     \n",
            "_________________________________________________________________\n",
            "batch_normalization_55 (Batc (None, 14, 14, 50)        200       \n",
            "_________________________________________________________________\n",
            "activation_64 (Activation)   (None, 14, 14, 50)        0         \n",
            "_________________________________________________________________\n",
            "conv2d_69 (Conv2D)           (None, 14, 14, 50)        22550     \n",
            "_________________________________________________________________\n",
            "batch_normalization_56 (Batc (None, 14, 14, 50)        200       \n",
            "_________________________________________________________________\n",
            "activation_65 (Activation)   (None, 14, 14, 50)        0         \n",
            "_________________________________________________________________\n",
            "max_pooling2d_35 (MaxPooling (None, 7, 7, 50)          0         \n",
            "_________________________________________________________________\n",
            "conv2d_70 (Conv2D)           (None, 7, 7, 50)          22550     \n",
            "_________________________________________________________________\n",
            "batch_normalization_57 (Batc (None, 7, 7, 50)          200       \n",
            "_________________________________________________________________\n",
            "activation_66 (Activation)   (None, 7, 7, 50)          0         \n",
            "_________________________________________________________________\n",
            "conv2d_71 (Conv2D)           (None, 7, 7, 50)          22550     \n",
            "_________________________________________________________________\n",
            "batch_normalization_58 (Batc (None, 7, 7, 50)          200       \n",
            "_________________________________________________________________\n",
            "activation_67 (Activation)   (None, 7, 7, 50)          0         \n",
            "_________________________________________________________________\n",
            "max_pooling2d_36 (MaxPooling (None, 3, 3, 50)          0         \n",
            "_________________________________________________________________\n",
            "flatten_10 (Flatten)         (None, 450)               0         \n",
            "_________________________________________________________________\n",
            "dense_19 (Dense)             (None, 50)                22550     \n",
            "_________________________________________________________________\n",
            "dropout_8 (Dropout)          (None, 50)                0         \n",
            "_________________________________________________________________\n",
            "dense_20 (Dense)             (None, 10)                510       \n",
            "=================================================================\n",
            "Total params: 137,510\n",
            "Trainable params: 136,910\n",
            "Non-trainable params: 600\n",
            "_________________________________________________________________\n"
          ],
          "name": "stdout"
        }
      ]
    },
    {
      "cell_type": "code",
      "metadata": {
        "id": "BOaQhhXD_7C9",
        "colab_type": "code",
        "colab": {}
      },
      "source": [
        "%%time\n",
        "history = model.fit(X_train, y_train, batch_size = 50, validation_split = 0.2, epochs = 100, verbose = 0)"
      ],
      "execution_count": null,
      "outputs": []
    },
    {
      "cell_type": "code",
      "metadata": {
        "id": "IH_GB9kl_7HI",
        "colab_type": "code",
        "colab": {}
      },
      "source": [
        "plt.plot(history.history['acc'])\n",
        "plt.plot(history.history['val_acc'])\n",
        "plt.legend(['training', 'validation'], loc = 'upper left')\n",
        "plt.show()"
      ],
      "execution_count": null,
      "outputs": []
    },
    {
      "cell_type": "code",
      "metadata": {
        "id": "WFl2y7hMASNr",
        "colab_type": "code",
        "colab": {}
      },
      "source": [
        "results = model.evaluate(X_test, y_test)"
      ],
      "execution_count": null,
      "outputs": []
    },
    {
      "cell_type": "code",
      "metadata": {
        "id": "-f3iXcmlASXQ",
        "colab_type": "code",
        "colab": {}
      },
      "source": [
        "print('Test accuracy: ', results[1])"
      ],
      "execution_count": null,
      "outputs": []
    },
    {
      "cell_type": "code",
      "metadata": {
        "id": "76zFXA3XAVPt",
        "colab_type": "code",
        "colab": {}
      },
      "source": [
        "# Another Case in NIN\n",
        "def deep_cnn_advanced_nin_v2():\n",
        "    model = Sequential()\n",
        "    \n",
        "    model.add(Conv2D(input_shape = (X_train.shape[1], X_train.shape[2], X_train.shape[3]), filters = 50, kernel_size = (3,3), strides = (1,1), padding = 'same', kernel_initializer='he_normal'))\n",
        "    model.add(BatchNormalization())\n",
        "    model.add(Activation('relu'))\n",
        "    model.add(Conv2D(filters = 50, kernel_size = (3,3), strides = (1,1), padding = 'same', kernel_initializer='he_normal'))\n",
        "    model.add(Conv2D(filters = 25, kernel_size = (1,1), strides = (1,1), padding = 'valid', kernel_initializer='he_normal'))\n",
        "    model.add(BatchNormalization())\n",
        "    model.add(Activation('relu'))\n",
        "    model.add(MaxPooling2D(pool_size = (2,2)))\n",
        "    model.add(Conv2D(filters = 50, kernel_size = (3,3), strides = (1,1), padding = 'same', kernel_initializer='he_normal'))\n",
        "    model.add(Conv2D(filters = 25, kernel_size = (1,1), strides = (1,1), padding = 'valid', kernel_initializer='he_normal'))\n",
        "    model.add(BatchNormalization())\n",
        "    model.add(Activation('relu'))\n",
        "    model.add(Conv2D(filters = 50, kernel_size = (3,3), strides = (1,1), padding = 'same', kernel_initializer='he_normal'))\n",
        "    model.add(Conv2D(filters = 25, kernel_size = (1,1), strides = (1,1), padding = 'valid', kernel_initializer='he_normal'))\n",
        "    model.add(BatchNormalization())\n",
        "    model.add(Activation('relu'))\n",
        "    model.add(MaxPooling2D(pool_size = (2,2)))\n",
        "    model.add(Conv2D(filters = 50, kernel_size = (3,3), strides = (1,1), padding = 'same', kernel_initializer='he_normal'))\n",
        "    model.add(Conv2D(filters = 25, kernel_size = (1,1), strides = (1,1), padding = 'valid', kernel_initializer='he_normal'))\n",
        "    model.add(BatchNormalization())\n",
        "    model.add(Activation('relu'))\n",
        "    model.add(Conv2D(filters = 50, kernel_size = (3,3), strides = (1,1), padding = 'same', kernel_initializer='he_normal'))\n",
        "    model.add(Conv2D(filters = 25, kernel_size = (1,1), strides = (1,1), padding = 'valid', kernel_initializer='he_normal'))\n",
        "    model.add(BatchNormalization())\n",
        "    model.add(Activation('relu'))\n",
        "    model.add(MaxPooling2D(pool_size = (2,2)))\n",
        "    \n",
        "    # prior layer should be flattend to be connected to dense layers\n",
        "    model.add(Flatten())\n",
        "    # dense layer with 50 neurons\n",
        "    model.add(Dense(50, activation = 'relu', kernel_initializer='he_normal'))\n",
        "    model.add(Dropout(0.5))\n",
        "    # final layer with 10 neurons to classify the instances\n",
        "    model.add(Dense(10, activation = 'softmax', kernel_initializer='he_normal'))\n",
        "    \n",
        "    adam = optimizers.Adam(lr = 0.001)\n",
        "    model.compile(loss = 'categorical_crossentropy', optimizer = adam, metrics = ['accuracy'])\n",
        "    \n",
        "    return model"
      ],
      "execution_count": null,
      "outputs": []
    },
    {
      "cell_type": "code",
      "metadata": {
        "id": "z-CYrjKFAVVO",
        "colab_type": "code",
        "colab": {}
      },
      "source": [
        "model = deep_cnn_advanced_nin_v2()"
      ],
      "execution_count": null,
      "outputs": []
    },
    {
      "cell_type": "code",
      "metadata": {
        "id": "D1lZs3rqAVap",
        "colab_type": "code",
        "colab": {
          "base_uri": "https://localhost:8080/",
          "height": 1000
        },
        "outputId": "e1714417-050b-493e-9cb3-1f5679d42fca"
      },
      "source": [
        "model.summary()    # note that the number of parameters are greatly reduced"
      ],
      "execution_count": null,
      "outputs": [
        {
          "output_type": "stream",
          "text": [
            "Model: \"sequential_20\"\n",
            "_________________________________________________________________\n",
            "Layer (type)                 Output Shape              Param #   \n",
            "=================================================================\n",
            "conv2d_72 (Conv2D)           (None, 28, 28, 50)        500       \n",
            "_________________________________________________________________\n",
            "batch_normalization_59 (Batc (None, 28, 28, 50)        200       \n",
            "_________________________________________________________________\n",
            "activation_68 (Activation)   (None, 28, 28, 50)        0         \n",
            "_________________________________________________________________\n",
            "conv2d_73 (Conv2D)           (None, 28, 28, 50)        22550     \n",
            "_________________________________________________________________\n",
            "conv2d_74 (Conv2D)           (None, 28, 28, 25)        1275      \n",
            "_________________________________________________________________\n",
            "batch_normalization_60 (Batc (None, 28, 28, 25)        100       \n",
            "_________________________________________________________________\n",
            "activation_69 (Activation)   (None, 28, 28, 25)        0         \n",
            "_________________________________________________________________\n",
            "max_pooling2d_37 (MaxPooling (None, 14, 14, 25)        0         \n",
            "_________________________________________________________________\n",
            "conv2d_75 (Conv2D)           (None, 14, 14, 50)        11300     \n",
            "_________________________________________________________________\n",
            "conv2d_76 (Conv2D)           (None, 14, 14, 25)        1275      \n",
            "_________________________________________________________________\n",
            "batch_normalization_61 (Batc (None, 14, 14, 25)        100       \n",
            "_________________________________________________________________\n",
            "activation_70 (Activation)   (None, 14, 14, 25)        0         \n",
            "_________________________________________________________________\n",
            "conv2d_77 (Conv2D)           (None, 14, 14, 50)        11300     \n",
            "_________________________________________________________________\n",
            "conv2d_78 (Conv2D)           (None, 14, 14, 25)        1275      \n",
            "_________________________________________________________________\n",
            "batch_normalization_62 (Batc (None, 14, 14, 25)        100       \n",
            "_________________________________________________________________\n",
            "activation_71 (Activation)   (None, 14, 14, 25)        0         \n",
            "_________________________________________________________________\n",
            "max_pooling2d_38 (MaxPooling (None, 7, 7, 25)          0         \n",
            "_________________________________________________________________\n",
            "conv2d_79 (Conv2D)           (None, 7, 7, 50)          11300     \n",
            "_________________________________________________________________\n",
            "conv2d_80 (Conv2D)           (None, 7, 7, 25)          1275      \n",
            "_________________________________________________________________\n",
            "batch_normalization_63 (Batc (None, 7, 7, 25)          100       \n",
            "_________________________________________________________________\n",
            "activation_72 (Activation)   (None, 7, 7, 25)          0         \n",
            "_________________________________________________________________\n",
            "conv2d_81 (Conv2D)           (None, 7, 7, 50)          11300     \n",
            "_________________________________________________________________\n",
            "conv2d_82 (Conv2D)           (None, 7, 7, 25)          1275      \n",
            "_________________________________________________________________\n",
            "batch_normalization_64 (Batc (None, 7, 7, 25)          100       \n",
            "_________________________________________________________________\n",
            "activation_73 (Activation)   (None, 7, 7, 25)          0         \n",
            "_________________________________________________________________\n",
            "max_pooling2d_39 (MaxPooling (None, 3, 3, 25)          0         \n",
            "_________________________________________________________________\n",
            "flatten_11 (Flatten)         (None, 225)               0         \n",
            "_________________________________________________________________\n",
            "dense_21 (Dense)             (None, 50)                11300     \n",
            "_________________________________________________________________\n",
            "dropout_9 (Dropout)          (None, 50)                0         \n",
            "_________________________________________________________________\n",
            "dense_22 (Dense)             (None, 10)                510       \n",
            "=================================================================\n",
            "Total params: 87,135\n",
            "Trainable params: 86,785\n",
            "Non-trainable params: 350\n",
            "_________________________________________________________________\n"
          ],
          "name": "stdout"
        }
      ]
    },
    {
      "cell_type": "code",
      "metadata": {
        "id": "-EYQZ0gEAVfo",
        "colab_type": "code",
        "colab": {}
      },
      "source": [
        "%%time\n",
        "history = model.fit(X_train, y_train, batch_size = 50, validation_split = 0.2, epochs = 100, verbose = 0)"
      ],
      "execution_count": null,
      "outputs": []
    },
    {
      "cell_type": "code",
      "metadata": {
        "id": "y0yGQzfxAVkl",
        "colab_type": "code",
        "colab": {}
      },
      "source": [
        "plt.plot(history.history['acc'])\n",
        "plt.plot(history.history['val_acc'])\n",
        "plt.legend(['training', 'validation'], loc = 'upper left')\n",
        "plt.show()"
      ],
      "execution_count": null,
      "outputs": []
    },
    {
      "cell_type": "code",
      "metadata": {
        "id": "xd6DJPaHAVpM",
        "colab_type": "code",
        "colab": {}
      },
      "source": [
        "results = model.evaluate(X_test, y_test)"
      ],
      "execution_count": null,
      "outputs": []
    },
    {
      "cell_type": "code",
      "metadata": {
        "id": "9Q3YzCKWAp1T",
        "colab_type": "code",
        "colab": {}
      },
      "source": [
        "print('Test accuracy: ', results[1])"
      ],
      "execution_count": null,
      "outputs": []
    }
  ]
}