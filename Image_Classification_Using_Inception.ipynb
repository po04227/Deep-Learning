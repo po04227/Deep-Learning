{
  "nbformat": 4,
  "nbformat_minor": 0,
  "metadata": {
    "colab": {
      "name": "Image_Classification_Using_Inception.ipynb",
      "provenance": [],
      "authorship_tag": "ABX9TyNQ93XtkEJZQVy06f4zNdHt",
      "include_colab_link": true
    },
    "kernelspec": {
      "name": "python3",
      "display_name": "Python 3"
    },
    "accelerator": "GPU"
  },
  "cells": [
    {
      "cell_type": "markdown",
      "metadata": {
        "id": "view-in-github",
        "colab_type": "text"
      },
      "source": [
        "<a href=\"https://colab.research.google.com/github/po04227/Deep-Learning/blob/master/Image_Classification_Using_Inception.ipynb\" target=\"_parent\"><img src=\"https://colab.research.google.com/assets/colab-badge.svg\" alt=\"Open In Colab\"/></a>"
      ]
    },
    {
      "cell_type": "code",
      "metadata": {
        "id": "GutYFfv7DFeH",
        "colab_type": "code",
        "colab": {}
      },
      "source": [
        "# Copyright 2018 Google LLC.\n",
        "# Licensed under the Apache License, Version 2.0 (the \"License\");\n",
        "# you may not use this file except in compliance with the License.\n",
        "# You may obtain a copy of the License at\n",
        "#\n",
        "# https://www.apache.org/licenses/LICENSE-2.0\n",
        "#\n",
        "# Unless required by applicable law or agreed to in writing, software\n",
        "# distributed under the License is distributed on an \"AS IS\" BASIS,\n",
        "# WITHOUT WARRANTIES OR CONDITIONS OF ANY KIND, either express or implied.\n",
        "# See the License for the specific language governing permissions and\n",
        "# limitations under the License."
      ],
      "execution_count": 1,
      "outputs": []
    },
    {
      "cell_type": "code",
      "metadata": {
        "id": "45qzdiokDZpc",
        "colab_type": "code",
        "colab": {}
      },
      "source": [
        "# Feature Extraction Using a Pretrained Model\n",
        "import os\n",
        "\n",
        "from tensorflow.keras import layers\n",
        "from tensorflow.keras import Model"
      ],
      "execution_count": 2,
      "outputs": []
    },
    {
      "cell_type": "code",
      "metadata": {
        "id": "mw1rAHeeK34U",
        "colab_type": "code",
        "colab": {
          "base_uri": "https://localhost:8080/",
          "height": 235
        },
        "outputId": "4cbe929d-69f9-4693-9209-2eb551a5b1a4"
      },
      "source": [
        "# Download the weights:\n",
        "!wget --no-check-certificate \\\n",
        "    https://storage.googleapis.com/mledu-datasets/inception_v3_weights_tf_dim_ordering_tf_kernels_notop.h5 \\\n",
        "    -O /tmp/inception_v3_weights_tf_dim_ordering_tf_kernels_notop.h5"
      ],
      "execution_count": 3,
      "outputs": [
        {
          "output_type": "stream",
          "text": [
            "--2020-07-27 07:28:06--  https://storage.googleapis.com/mledu-datasets/inception_v3_weights_tf_dim_ordering_tf_kernels_notop.h5\n",
            "Resolving storage.googleapis.com (storage.googleapis.com)... 66.102.1.128, 64.233.167.128, 173.194.76.128, ...\n",
            "Connecting to storage.googleapis.com (storage.googleapis.com)|66.102.1.128|:443... connected.\n",
            "HTTP request sent, awaiting response... 200 OK\n",
            "Length: 87910968 (84M) [application/x-hdf]\n",
            "Saving to: ‘/tmp/inception_v3_weights_tf_dim_ordering_tf_kernels_notop.h5’\n",
            "\n",
            "\r          /tmp/ince   0%[                    ]       0  --.-KB/s               \r         /tmp/incep  35%[======>             ]  30.04M   150MB/s               \r        /tmp/incept  93%[=================>  ]  78.30M   196MB/s               \r/tmp/inception_v3_w 100%[===================>]  83.84M   163MB/s    in 0.5s    \n",
            "\n",
            "2020-07-27 07:28:06 (163 MB/s) - ‘/tmp/inception_v3_weights_tf_dim_ordering_tf_kernels_notop.h5’ saved [87910968/87910968]\n",
            "\n"
          ],
          "name": "stdout"
        }
      ]
    },
    {
      "cell_type": "code",
      "metadata": {
        "id": "VL72dnhGDijj",
        "colab_type": "code",
        "colab": {}
      },
      "source": [
        "from tensorflow.keras.applications.inception_v3 import InceptionV3\n",
        "\n",
        "local_weights_file = '/tmp/inception_v3_weights_tf_dim_ordering_tf_kernels_notop.h5'\n",
        "pre_trained_model = InceptionV3(\n",
        "    input_shape=(150, 150, 3), include_top=False, weights=None)\n",
        "pre_trained_model.load_weights(local_weights_file)"
      ],
      "execution_count": 4,
      "outputs": []
    },
    {
      "cell_type": "code",
      "metadata": {
        "id": "dMgIAf0iLRDj",
        "colab_type": "code",
        "colab": {}
      },
      "source": [
        "# Make the model non-trainable\n",
        "for layer in pre_trained_model.layers:\n",
        "  layer.trainable = False"
      ],
      "execution_count": 6,
      "outputs": []
    },
    {
      "cell_type": "code",
      "metadata": {
        "id": "A3di4pFSLRH8",
        "colab_type": "code",
        "colab": {
          "base_uri": "https://localhost:8080/",
          "height": 35
        },
        "outputId": "be0cd894-1f99-470f-96e7-5801a6b840c9"
      },
      "source": [
        "# Get the output from mixed7\n",
        "last_layer = pre_trained_model.get_layer('mixed7')\n",
        "print('last layer output shape:', last_layer.output_shape)\n",
        "last_output = last_layer.output"
      ],
      "execution_count": 7,
      "outputs": [
        {
          "output_type": "stream",
          "text": [
            "last layer output shape: (None, 7, 7, 768)\n"
          ],
          "name": "stdout"
        }
      ]
    },
    {
      "cell_type": "code",
      "metadata": {
        "id": "4xhUCLMyLRMj",
        "colab_type": "code",
        "colab": {}
      },
      "source": [
        "# Stick a fully connected classifier on top of last_output:\n",
        "from tensorflow.keras.optimizers import RMSprop\n",
        "\n",
        "# Flatten the output layer to 1 dimension\n",
        "x = layers.Flatten()(last_output)\n",
        "# Add a fully connected layer with 1,024 hidden units and ReLU activation\n",
        "x = layers.Dense(1024, activation='relu')(x)\n",
        "# Add a dropout rate of 0.2\n",
        "x = layers.Dropout(0.2)(x)\n",
        "# Add a final sigmoid layer for classification\n",
        "x = layers.Dense(1, activation='sigmoid')(x)\n",
        "\n",
        "# Configure and compile the model\n",
        "model = Model(pre_trained_model.input, x)\n",
        "model.compile(loss='binary_crossentropy',\n",
        "              optimizer=RMSprop(lr=0.0001),\n",
        "              metrics=['acc'])"
      ],
      "execution_count": 9,
      "outputs": []
    },
    {
      "cell_type": "code",
      "metadata": {
        "id": "KUmHxxoRLRRb",
        "colab_type": "code",
        "colab": {
          "base_uri": "https://localhost:8080/",
          "height": 215
        },
        "outputId": "a0b03dd0-469b-4233-903c-e7919bf5cf60"
      },
      "source": [
        "# Use the same files and train_generator\n",
        "!wget --no-check-certificate \\\n",
        "   https://storage.googleapis.com/mledu-datasets/cats_and_dogs_filtered.zip -O \\\n",
        "   /tmp/cats_and_dogs_filtered.zip"
      ],
      "execution_count": 10,
      "outputs": [
        {
          "output_type": "stream",
          "text": [
            "--2020-07-27 07:42:28--  https://storage.googleapis.com/mledu-datasets/cats_and_dogs_filtered.zip\n",
            "Resolving storage.googleapis.com (storage.googleapis.com)... 173.194.76.128, 66.102.1.128, 64.233.167.128, ...\n",
            "Connecting to storage.googleapis.com (storage.googleapis.com)|173.194.76.128|:443... connected.\n",
            "HTTP request sent, awaiting response... 200 OK\n",
            "Length: 68606236 (65M) [application/zip]\n",
            "Saving to: ‘/tmp/cats_and_dogs_filtered.zip’\n",
            "\n",
            "/tmp/cats_and_dogs_ 100%[===================>]  65.43M  36.8MB/s    in 1.8s    \n",
            "\n",
            "2020-07-27 07:42:30 (36.8 MB/s) - ‘/tmp/cats_and_dogs_filtered.zip’ saved [68606236/68606236]\n",
            "\n"
          ],
          "name": "stdout"
        }
      ]
    },
    {
      "cell_type": "code",
      "metadata": {
        "id": "zAN7B__iLRVr",
        "colab_type": "code",
        "colab": {
          "base_uri": "https://localhost:8080/",
          "height": 53
        },
        "outputId": "97a69415-1abb-4037-9199-aace3bbf908e"
      },
      "source": [
        "import os\n",
        "import zipfile\n",
        "\n",
        "from tensorflow.keras.preprocessing.image import ImageDataGenerator\n",
        "\n",
        "local_zip = '/tmp/cats_and_dogs_filtered.zip'\n",
        "zip_ref = zipfile.ZipFile(local_zip, 'r')\n",
        "zip_ref.extractall('/tmp')\n",
        "zip_ref.close()\n",
        "\n",
        "# Define our example directories and files\n",
        "base_dir = '/tmp/cats_and_dogs_filtered'\n",
        "train_dir = os.path.join(base_dir, 'train')\n",
        "validation_dir = os.path.join(base_dir, 'validation')\n",
        "\n",
        "# Directory with our training cat pictures\n",
        "train_cats_dir = os.path.join(train_dir, 'cats')\n",
        "\n",
        "# Directory with our training dog pictures\n",
        "train_dogs_dir = os.path.join(train_dir, 'dogs')\n",
        "\n",
        "# Directory with our validation cat pictures\n",
        "validation_cats_dir = os.path.join(validation_dir, 'cats')\n",
        "\n",
        "# Directory with our validation dog pictures\n",
        "validation_dogs_dir = os.path.join(validation_dir, 'dogs')\n",
        "\n",
        "train_cat_fnames = os.listdir(train_cats_dir)\n",
        "train_dog_fnames = os.listdir(train_dogs_dir)\n",
        "\n",
        "# Add our data-augmentation parameters to ImageDataGenerator\n",
        "train_datagen = ImageDataGenerator(\n",
        "    rescale=1./255,\n",
        "    rotation_range=40,\n",
        "    width_shift_range=0.2,\n",
        "    height_shift_range=0.2,\n",
        "    shear_range=0.2,\n",
        "    zoom_range=0.2,\n",
        "    horizontal_flip=True)\n",
        "\n",
        "# Note that the validation data should not be augmented!\n",
        "val_datagen = ImageDataGenerator(rescale=1./255)\n",
        "\n",
        "train_generator = train_datagen.flow_from_directory(\n",
        "        train_dir, # This is the source directory for training images\n",
        "        target_size=(150, 150),  # All images will be resized to 150x150\n",
        "        batch_size=20,\n",
        "        # Since we use binary_crossentropy loss, we need binary labels\n",
        "        class_mode='binary')\n",
        "\n",
        "# Flow validation images in batches of 20 using val_datagen generator\n",
        "validation_generator = val_datagen.flow_from_directory(\n",
        "        validation_dir,\n",
        "        target_size=(150, 150),\n",
        "        batch_size=20,\n",
        "        class_mode='binary')"
      ],
      "execution_count": 11,
      "outputs": [
        {
          "output_type": "stream",
          "text": [
            "Found 2000 images belonging to 2 classes.\n",
            "Found 1000 images belonging to 2 classes.\n"
          ],
          "name": "stdout"
        }
      ]
    },
    {
      "cell_type": "code",
      "metadata": {
        "id": "kXBqkZvKLRaM",
        "colab_type": "code",
        "colab": {
          "base_uri": "https://localhost:8080/",
          "height": 377
        },
        "outputId": "d69eed73-dd18-4508-bf75-1cff9a941f5e"
      },
      "source": [
        "# Train the model using the features we extracted\n",
        "history = model.fit_generator(\n",
        "      train_generator,\n",
        "      steps_per_epoch=100,\n",
        "      epochs=10,\n",
        "      validation_data=validation_generator,\n",
        "      validation_steps=50,\n",
        "      verbose=2)"
      ],
      "execution_count": 13,
      "outputs": [
        {
          "output_type": "stream",
          "text": [
            "Epoch 1/10\n",
            "100/100 - 23s - loss: 0.2102 - acc: 0.9195 - val_loss: 0.0965 - val_acc: 0.9640\n",
            "Epoch 2/10\n",
            "100/100 - 23s - loss: 0.1946 - acc: 0.9305 - val_loss: 0.1070 - val_acc: 0.9610\n",
            "Epoch 3/10\n",
            "100/100 - 22s - loss: 0.1880 - acc: 0.9285 - val_loss: 0.1011 - val_acc: 0.9660\n",
            "Epoch 4/10\n",
            "100/100 - 23s - loss: 0.1722 - acc: 0.9375 - val_loss: 0.1131 - val_acc: 0.9590\n",
            "Epoch 5/10\n",
            "100/100 - 22s - loss: 0.1643 - acc: 0.9475 - val_loss: 0.1375 - val_acc: 0.9550\n",
            "Epoch 6/10\n",
            "100/100 - 23s - loss: 0.1861 - acc: 0.9405 - val_loss: 0.0880 - val_acc: 0.9710\n",
            "Epoch 7/10\n",
            "100/100 - 22s - loss: 0.1604 - acc: 0.9495 - val_loss: 0.1037 - val_acc: 0.9660\n",
            "Epoch 8/10\n",
            "100/100 - 22s - loss: 0.1445 - acc: 0.9545 - val_loss: 0.1742 - val_acc: 0.9530\n",
            "Epoch 9/10\n",
            "100/100 - 22s - loss: 0.1649 - acc: 0.9480 - val_loss: 0.1675 - val_acc: 0.9560\n",
            "Epoch 10/10\n",
            "100/100 - 22s - loss: 0.1677 - acc: 0.9415 - val_loss: 0.1384 - val_acc: 0.9660\n"
          ],
          "name": "stdout"
        }
      ]
    },
    {
      "cell_type": "code",
      "metadata": {
        "id": "vrVt1NItLRdU",
        "colab_type": "code",
        "colab": {}
      },
      "source": [
        "# Further Improving Accuracy with Fine-Tuning\n",
        "from tensorflow.keras.optimizers import SGD\n",
        "\n",
        "unfreeze = False\n",
        "\n",
        "# Unfreeze all models after \"mixed6\"\n",
        "for layer in pre_trained_model.layers:\n",
        "  if unfreeze:\n",
        "    layer.trainable = True\n",
        "  if layer.name == 'mixed6':\n",
        "    unfreeze = True\n",
        "\n",
        "# As an optimizer, here we will use SGD \n",
        "# with a very low learning rate (0.00001)\n",
        "model.compile(loss='binary_crossentropy',\n",
        "              optimizer=SGD(\n",
        "                  lr=0.00001, \n",
        "                  momentum=0.9),\n",
        "              metrics=['acc'])"
      ],
      "execution_count": 15,
      "outputs": []
    },
    {
      "cell_type": "code",
      "metadata": {
        "id": "OBcLiBUgRXjW",
        "colab_type": "code",
        "colab": {
          "base_uri": "https://localhost:8080/",
          "height": 1000
        },
        "outputId": "eef5ebd9-6a94-4705-936b-63e1fe423276"
      },
      "source": [
        "# Retrain the model\n",
        "history = model.fit_generator(\n",
        "      train_generator,\n",
        "      steps_per_epoch=100,\n",
        "      epochs=50,\n",
        "      validation_data=validation_generator,\n",
        "      validation_steps=50,\n",
        "      verbose=2)"
      ],
      "execution_count": 16,
      "outputs": [
        {
          "output_type": "stream",
          "text": [
            "Epoch 1/50\n",
            "100/100 - 24s - loss: 0.2130 - acc: 0.9165 - val_loss: 0.1322 - val_acc: 0.9490\n",
            "Epoch 2/50\n",
            "100/100 - 23s - loss: 0.1967 - acc: 0.9175 - val_loss: 0.1369 - val_acc: 0.9520\n",
            "Epoch 3/50\n",
            "100/100 - 22s - loss: 0.1691 - acc: 0.9315 - val_loss: 0.1389 - val_acc: 0.9500\n",
            "Epoch 4/50\n",
            "100/100 - 23s - loss: 0.1690 - acc: 0.9355 - val_loss: 0.1367 - val_acc: 0.9480\n",
            "Epoch 5/50\n",
            "100/100 - 22s - loss: 0.1741 - acc: 0.9225 - val_loss: 0.1359 - val_acc: 0.9500\n",
            "Epoch 6/50\n",
            "100/100 - 22s - loss: 0.1795 - acc: 0.9280 - val_loss: 0.1357 - val_acc: 0.9500\n",
            "Epoch 7/50\n",
            "100/100 - 22s - loss: 0.1878 - acc: 0.9285 - val_loss: 0.1337 - val_acc: 0.9520\n",
            "Epoch 8/50\n",
            "100/100 - 22s - loss: 0.1684 - acc: 0.9325 - val_loss: 0.1334 - val_acc: 0.9520\n",
            "Epoch 9/50\n",
            "100/100 - 22s - loss: 0.1647 - acc: 0.9315 - val_loss: 0.1328 - val_acc: 0.9530\n",
            "Epoch 10/50\n",
            "100/100 - 22s - loss: 0.1630 - acc: 0.9355 - val_loss: 0.1317 - val_acc: 0.9530\n",
            "Epoch 11/50\n",
            "100/100 - 22s - loss: 0.1792 - acc: 0.9300 - val_loss: 0.1319 - val_acc: 0.9520\n",
            "Epoch 12/50\n",
            "100/100 - 22s - loss: 0.1675 - acc: 0.9340 - val_loss: 0.1307 - val_acc: 0.9520\n",
            "Epoch 13/50\n",
            "100/100 - 22s - loss: 0.1678 - acc: 0.9285 - val_loss: 0.1298 - val_acc: 0.9540\n",
            "Epoch 14/50\n",
            "100/100 - 22s - loss: 0.1679 - acc: 0.9350 - val_loss: 0.1292 - val_acc: 0.9550\n",
            "Epoch 15/50\n",
            "100/100 - 22s - loss: 0.1717 - acc: 0.9260 - val_loss: 0.1286 - val_acc: 0.9560\n",
            "Epoch 16/50\n",
            "100/100 - 22s - loss: 0.1471 - acc: 0.9385 - val_loss: 0.1282 - val_acc: 0.9550\n",
            "Epoch 17/50\n",
            "100/100 - 22s - loss: 0.1790 - acc: 0.9255 - val_loss: 0.1278 - val_acc: 0.9540\n",
            "Epoch 18/50\n",
            "100/100 - 22s - loss: 0.1449 - acc: 0.9440 - val_loss: 0.1266 - val_acc: 0.9550\n",
            "Epoch 19/50\n",
            "100/100 - 23s - loss: 0.1664 - acc: 0.9350 - val_loss: 0.1259 - val_acc: 0.9550\n",
            "Epoch 20/50\n",
            "100/100 - 22s - loss: 0.1723 - acc: 0.9325 - val_loss: 0.1257 - val_acc: 0.9580\n",
            "Epoch 21/50\n",
            "100/100 - 23s - loss: 0.1581 - acc: 0.9345 - val_loss: 0.1256 - val_acc: 0.9570\n",
            "Epoch 22/50\n",
            "100/100 - 22s - loss: 0.1732 - acc: 0.9345 - val_loss: 0.1245 - val_acc: 0.9570\n",
            "Epoch 23/50\n",
            "100/100 - 22s - loss: 0.1559 - acc: 0.9405 - val_loss: 0.1245 - val_acc: 0.9560\n",
            "Epoch 24/50\n",
            "100/100 - 22s - loss: 0.1571 - acc: 0.9350 - val_loss: 0.1242 - val_acc: 0.9570\n",
            "Epoch 25/50\n",
            "100/100 - 22s - loss: 0.1700 - acc: 0.9335 - val_loss: 0.1237 - val_acc: 0.9580\n",
            "Epoch 26/50\n",
            "100/100 - 21s - loss: 0.1537 - acc: 0.9425 - val_loss: 0.1231 - val_acc: 0.9580\n",
            "Epoch 27/50\n",
            "100/100 - 22s - loss: 0.1522 - acc: 0.9390 - val_loss: 0.1224 - val_acc: 0.9590\n",
            "Epoch 28/50\n",
            "100/100 - 22s - loss: 0.1461 - acc: 0.9425 - val_loss: 0.1222 - val_acc: 0.9580\n",
            "Epoch 29/50\n",
            "100/100 - 22s - loss: 0.1512 - acc: 0.9405 - val_loss: 0.1220 - val_acc: 0.9580\n",
            "Epoch 30/50\n",
            "100/100 - 23s - loss: 0.1564 - acc: 0.9430 - val_loss: 0.1216 - val_acc: 0.9590\n",
            "Epoch 31/50\n",
            "100/100 - 22s - loss: 0.1503 - acc: 0.9385 - val_loss: 0.1212 - val_acc: 0.9580\n",
            "Epoch 32/50\n",
            "100/100 - 23s - loss: 0.1540 - acc: 0.9375 - val_loss: 0.1206 - val_acc: 0.9580\n",
            "Epoch 33/50\n",
            "100/100 - 22s - loss: 0.1718 - acc: 0.9315 - val_loss: 0.1203 - val_acc: 0.9580\n",
            "Epoch 34/50\n",
            "100/100 - 23s - loss: 0.1371 - acc: 0.9500 - val_loss: 0.1202 - val_acc: 0.9570\n",
            "Epoch 35/50\n",
            "100/100 - 22s - loss: 0.1505 - acc: 0.9440 - val_loss: 0.1193 - val_acc: 0.9570\n",
            "Epoch 36/50\n",
            "100/100 - 22s - loss: 0.1682 - acc: 0.9345 - val_loss: 0.1190 - val_acc: 0.9570\n",
            "Epoch 37/50\n",
            "100/100 - 22s - loss: 0.1476 - acc: 0.9400 - val_loss: 0.1188 - val_acc: 0.9570\n",
            "Epoch 38/50\n",
            "100/100 - 22s - loss: 0.1522 - acc: 0.9410 - val_loss: 0.1181 - val_acc: 0.9590\n",
            "Epoch 39/50\n",
            "100/100 - 22s - loss: 0.1674 - acc: 0.9390 - val_loss: 0.1173 - val_acc: 0.9600\n",
            "Epoch 40/50\n",
            "100/100 - 22s - loss: 0.1423 - acc: 0.9395 - val_loss: 0.1170 - val_acc: 0.9580\n",
            "Epoch 41/50\n",
            "100/100 - 23s - loss: 0.1582 - acc: 0.9365 - val_loss: 0.1162 - val_acc: 0.9590\n",
            "Epoch 42/50\n",
            "100/100 - 22s - loss: 0.1469 - acc: 0.9435 - val_loss: 0.1167 - val_acc: 0.9580\n",
            "Epoch 43/50\n",
            "100/100 - 23s - loss: 0.1705 - acc: 0.9350 - val_loss: 0.1164 - val_acc: 0.9590\n",
            "Epoch 44/50\n",
            "100/100 - 22s - loss: 0.1519 - acc: 0.9385 - val_loss: 0.1156 - val_acc: 0.9600\n",
            "Epoch 45/50\n",
            "100/100 - 23s - loss: 0.1470 - acc: 0.9375 - val_loss: 0.1150 - val_acc: 0.9600\n",
            "Epoch 46/50\n",
            "100/100 - 22s - loss: 0.1474 - acc: 0.9455 - val_loss: 0.1153 - val_acc: 0.9600\n",
            "Epoch 47/50\n",
            "100/100 - 22s - loss: 0.1483 - acc: 0.9375 - val_loss: 0.1146 - val_acc: 0.9600\n",
            "Epoch 48/50\n",
            "100/100 - 22s - loss: 0.1408 - acc: 0.9405 - val_loss: 0.1148 - val_acc: 0.9600\n",
            "Epoch 49/50\n",
            "100/100 - 22s - loss: 0.1629 - acc: 0.9355 - val_loss: 0.1140 - val_acc: 0.9600\n",
            "Epoch 50/50\n",
            "100/100 - 22s - loss: 0.1516 - acc: 0.9415 - val_loss: 0.1143 - val_acc: 0.9610\n"
          ],
          "name": "stdout"
        }
      ]
    },
    {
      "cell_type": "code",
      "metadata": {
        "id": "fcA35XtKRXoV",
        "colab_type": "code",
        "colab": {
          "base_uri": "https://localhost:8080/",
          "height": 563
        },
        "outputId": "67f7a7f5-b9b9-4872-bf14-d92edb21bcdb"
      },
      "source": [
        "# Plot the training and validation loss and accuracy to show it conclusively:\n",
        "%matplotlib inline\n",
        "\n",
        "import matplotlib.pyplot as plt\n",
        "import matplotlib.image as mpimg\n",
        "\n",
        "# Retrieve a list of accuracy results on training and validation data\n",
        "# sets for each training epoch\n",
        "acc = history.history['acc']\n",
        "val_acc = history.history['val_acc']\n",
        "\n",
        "# Retrieve a list of list results on training and validation data\n",
        "# sets for each training epoch\n",
        "loss = history.history['loss']\n",
        "val_loss = history.history['val_loss']\n",
        "\n",
        "# Get number of epochs\n",
        "epochs = range(len(acc))\n",
        "\n",
        "# Plot training and validation accuracy per epoch\n",
        "plt.plot(epochs, acc)\n",
        "plt.plot(epochs, val_acc)\n",
        "plt.title('Training and validation accuracy')\n",
        "\n",
        "plt.figure()\n",
        "\n",
        "# Plot training and validation loss per epoch\n",
        "plt.plot(epochs, loss)\n",
        "plt.plot(epochs, val_loss)\n",
        "plt.title('Training and validation loss')"
      ],
      "execution_count": 17,
      "outputs": [
        {
          "output_type": "execute_result",
          "data": {
            "text/plain": [
              "Text(0.5, 1.0, 'Training and validation loss')"
            ]
          },
          "metadata": {
            "tags": []
          },
          "execution_count": 17
        },
        {
          "output_type": "display_data",
          "data": {
            "image/png": "[encoded data removed]",
            "text/plain": [
              "<Figure size 432x288 with 1 Axes>"
            ]
          },
          "metadata": {
            "tags": [],
            "needs_background": "light"
          }
        },
        {
          "output_type": "display_data",
          "data": {
            "image/png": "[encoded data removed]",
            "text/plain": [
              "<Figure size 432x288 with 1 Axes>"
            ]
          },
          "metadata": {
            "tags": [],
            "needs_background": "light"
          }
        }
      ]
    }
  ]
}